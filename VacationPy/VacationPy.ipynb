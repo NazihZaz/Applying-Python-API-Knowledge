{
 "cells": [
  {
   "cell_type": "markdown",
   "metadata": {},
   "source": [
    "# VacationPy\n",
    "----\n",
    "\n",
    "#### Note\n",
    "* Keep an eye on your API usage. Use https://developers.google.com/maps/reporting/gmp-reporting as reference for how to monitor your usage and billing.\n",
    "\n",
    "* Instructions have been included for each segment. You do not have to follow them exactly, but they are included to help you think through the steps."
   ]
  },
  {
   "cell_type": "code",
   "execution_count": 1,
   "metadata": {},
   "outputs": [],
   "source": [
    "# Dependencies and Setup\n",
    "import matplotlib.pyplot as plt\n",
    "import pandas as pd\n",
    "import numpy as np\n",
    "import requests\n",
    "import gmaps\n",
    "import os\n",
    "\n",
    "# Import API key\n",
    "from api_keys import g_key"
   ]
  },
  {
   "cell_type": "markdown",
   "metadata": {},
   "source": [
    "### Store Part I results into DataFrame\n",
    "* Load the csv exported in Part I to a DataFrame"
   ]
  },
  {
   "cell_type": "code",
   "execution_count": 2,
   "metadata": {},
   "outputs": [],
   "source": [
    "file_path=\"../output_data/cities.csv\"\n",
    "weather_df=pd.read_csv(file_path)"
   ]
  },
  {
   "cell_type": "markdown",
   "metadata": {},
   "source": [
    "### Humidity Heatmap\n",
    "* Configure gmaps.\n",
    "* Use the Lat and Lng as locations and Humidity as the weight.\n",
    "* Add Heatmap layer to map."
   ]
  },
  {
   "cell_type": "code",
   "execution_count": 3,
   "metadata": {},
   "outputs": [],
   "source": [
    "gmaps.configure(api_key=g_key)"
   ]
  },
  {
   "cell_type": "code",
   "execution_count": 4,
   "metadata": {},
   "outputs": [
    {
     "data": {
      "application/vnd.jupyter.widget-view+json": {
       "model_id": "53a4c06443f5485f89ebffe3a4dfb136",
       "version_major": 2,
       "version_minor": 0
      },
      "text/plain": [
       "Figure(layout=FigureLayout(height='420px'))"
      ]
     },
     "metadata": {},
     "output_type": "display_data"
    }
   ],
   "source": [
    "locations=weather_df[[\"Lat\", \"Lng\"]]\n",
    "humidity=weather_df[\"Humidity\"]\n",
    "intensity=weather_df[\"Humidity\"].max()\n",
    "# Plot Heatmap\n",
    "fig = gmaps.figure(center=(20, 35), zoom_level=2)\n",
    "# Create heat layer\n",
    "heat_layer = gmaps.heatmap_layer(locations, weights=humidity, \n",
    "                                 dissipating=False, max_intensity=intensity,\n",
    "                                 point_radius=3)\n",
    "# Add layer\n",
    "fig.add_layer(heat_layer)\n",
    "\n",
    "# Display figure\n",
    "fig"
   ]
  },
  {
   "cell_type": "markdown",
   "metadata": {},
   "source": [
    "### Create new DataFrame fitting weather criteria\n",
    "* Narrow down the cities to fit weather conditions.\n",
    "* Drop any rows will null values."
   ]
  },
  {
   "cell_type": "code",
   "execution_count": 5,
   "metadata": {
    "scrolled": true
   },
   "outputs": [
    {
     "data": {
      "text/html": [
       "<div>\n",
       "<style scoped>\n",
       "    .dataframe tbody tr th:only-of-type {\n",
       "        vertical-align: middle;\n",
       "    }\n",
       "\n",
       "    .dataframe tbody tr th {\n",
       "        vertical-align: top;\n",
       "    }\n",
       "\n",
       "    .dataframe thead th {\n",
       "        text-align: right;\n",
       "    }\n",
       "</style>\n",
       "<table border=\"1\" class=\"dataframe\">\n",
       "  <thead>\n",
       "    <tr style=\"text-align: right;\">\n",
       "      <th></th>\n",
       "      <th>City</th>\n",
       "      <th>Cloudiness</th>\n",
       "      <th>Country</th>\n",
       "      <th>Date</th>\n",
       "      <th>Humidity</th>\n",
       "      <th>Lat</th>\n",
       "      <th>Lng</th>\n",
       "      <th>Max Temp</th>\n",
       "      <th>Wind</th>\n",
       "    </tr>\n",
       "  </thead>\n",
       "  <tbody>\n",
       "    <tr>\n",
       "      <th>0</th>\n",
       "      <td>vallenar</td>\n",
       "      <td>0</td>\n",
       "      <td>CL</td>\n",
       "      <td>1634853168</td>\n",
       "      <td>30</td>\n",
       "      <td>-28.57</td>\n",
       "      <td>-70.76</td>\n",
       "      <td>71.80</td>\n",
       "      <td>7.49</td>\n",
       "    </tr>\n",
       "    <tr>\n",
       "      <th>1</th>\n",
       "      <td>ovalle</td>\n",
       "      <td>0</td>\n",
       "      <td>CL</td>\n",
       "      <td>1634853181</td>\n",
       "      <td>38</td>\n",
       "      <td>-30.60</td>\n",
       "      <td>-71.20</td>\n",
       "      <td>70.56</td>\n",
       "      <td>6.60</td>\n",
       "    </tr>\n",
       "    <tr>\n",
       "      <th>2</th>\n",
       "      <td>sirsa</td>\n",
       "      <td>0</td>\n",
       "      <td>IN</td>\n",
       "      <td>1634853186</td>\n",
       "      <td>31</td>\n",
       "      <td>29.53</td>\n",
       "      <td>75.02</td>\n",
       "      <td>73.89</td>\n",
       "      <td>5.61</td>\n",
       "    </tr>\n",
       "    <tr>\n",
       "      <th>3</th>\n",
       "      <td>mount isa</td>\n",
       "      <td>0</td>\n",
       "      <td>AU</td>\n",
       "      <td>1634853196</td>\n",
       "      <td>53</td>\n",
       "      <td>-20.73</td>\n",
       "      <td>139.50</td>\n",
       "      <td>78.57</td>\n",
       "      <td>0.00</td>\n",
       "    </tr>\n",
       "    <tr>\n",
       "      <th>4</th>\n",
       "      <td>duartina</td>\n",
       "      <td>0</td>\n",
       "      <td>BR</td>\n",
       "      <td>1634853204</td>\n",
       "      <td>50</td>\n",
       "      <td>-22.41</td>\n",
       "      <td>-49.40</td>\n",
       "      <td>79.95</td>\n",
       "      <td>7.92</td>\n",
       "    </tr>\n",
       "    <tr>\n",
       "      <th>5</th>\n",
       "      <td>beira</td>\n",
       "      <td>0</td>\n",
       "      <td>MZ</td>\n",
       "      <td>1634853219</td>\n",
       "      <td>78</td>\n",
       "      <td>-19.84</td>\n",
       "      <td>34.84</td>\n",
       "      <td>71.69</td>\n",
       "      <td>8.01</td>\n",
       "    </tr>\n",
       "  </tbody>\n",
       "</table>\n",
       "</div>"
      ],
      "text/plain": [
       "        City  Cloudiness Country        Date  Humidity    Lat     Lng  \\\n",
       "0   vallenar           0      CL  1634853168        30 -28.57  -70.76   \n",
       "1     ovalle           0      CL  1634853181        38 -30.60  -71.20   \n",
       "2      sirsa           0      IN  1634853186        31  29.53   75.02   \n",
       "3  mount isa           0      AU  1634853196        53 -20.73  139.50   \n",
       "4   duartina           0      BR  1634853204        50 -22.41  -49.40   \n",
       "5      beira           0      MZ  1634853219        78 -19.84   34.84   \n",
       "\n",
       "   Max Temp  Wind  \n",
       "0     71.80  7.49  \n",
       "1     70.56  6.60  \n",
       "2     73.89  5.61  \n",
       "3     78.57  0.00  \n",
       "4     79.95  7.92  \n",
       "5     71.69  8.01  "
      ]
     },
     "execution_count": 5,
     "metadata": {},
     "output_type": "execute_result"
    }
   ],
   "source": [
    "narrow_df=weather_df[(weather_df[\"Max Temp\"]<80)&(weather_df[\"Max Temp\"]>70)&(weather_df[\"Wind\"]<10)\n",
    "                     &(weather_df[\"Cloudiness\"]==0)].dropna().reset_index().drop(columns={\"index\"})\n",
    "narrow_df"
   ]
  },
  {
   "cell_type": "markdown",
   "metadata": {},
   "source": [
    "### Hotel Map\n",
    "* Store into variable named `hotel_df`.\n",
    "* Add a \"Hotel Name\" column to the DataFrame.\n",
    "* Set parameters to search for hotels with 5000 meters.\n",
    "* Hit the Google Places API for each city's coordinates.\n",
    "* Store the first Hotel result into the DataFrame.\n",
    "* Plot markers on top of the heatmap."
   ]
  },
  {
   "cell_type": "code",
   "execution_count": 6,
   "metadata": {},
   "outputs": [],
   "source": [
    "hotel_df=narrow_df\n",
    "hotel_df[\"Hotel Name\"]=\"\""
   ]
  },
  {
   "cell_type": "code",
   "execution_count": 7,
   "metadata": {},
   "outputs": [
    {
     "name": "stdout",
     "output_type": "stream",
     "text": [
      "Beginning Data Retrieval\n",
      "----------------------------\n",
      "Processing Search in vallenar city...\n",
      "Hotel Origenes has been added to Hotel Names\n",
      "Processing Search in ovalle city...\n",
      "Hotel Keo has been added to Hotel Names\n",
      "Processing Search in sirsa city...\n",
      "Hotel Gumber has been added to Hotel Names\n",
      "Processing Search in mount isa city...\n",
      "Isa Hotel has been added to Hotel Names\n",
      "Processing Search in duartina city...\n",
      "HOTEL BOA VISTA has been added to Hotel Names\n",
      "Processing Search in beira city...\n",
      "Hotel Tivoli Beira has been added to Hotel Names\n",
      "-----------------------------\n",
      "Data Retrieval Complete\n",
      "-----------------------------\n"
     ]
    }
   ],
   "source": [
    "params={\n",
    "    \"keyword\": \"hotel\",\n",
    "    \"radius\":5000,\n",
    "    \"key\": g_key\n",
    "}\n",
    "\n",
    "# base url\n",
    "base_url = \"https://maps.googleapis.com/maps/api/place/nearbysearch/json\"\n",
    "\n",
    "print(\"Beginning Data Retrieval\")\n",
    "print(\"----------------------------\")\n",
    "\n",
    "for index, row in hotel_df.iterrows():\n",
    "    lat=row[\"Lat\"]\n",
    "    lng=row[\"Lng\"]\n",
    "    params[\"location\"]=f\"{lat},{lng}\"\n",
    "    try:\n",
    "        print(f\"Processing Search in {row['City']} city...\")\n",
    "        response= requests.get(base_url, params=params).json()\n",
    "        hotel_df.loc[index, \"Hotel Name\"] = response[\"results\"][0][\"name\"]\n",
    "        print(f\"{response['results'][0]['name']} has been added to Hotel Names\")\n",
    "    except IndexError:\n",
    "        print(\"No Hotel Available\")\n",
    "\n",
    "print(\"-----------------------------\")\n",
    "print(\"Data Retrieval Complete\")\n",
    "print(\"-----------------------------\")"
   ]
  },
  {
   "cell_type": "code",
   "execution_count": 8,
   "metadata": {
    "scrolled": true
   },
   "outputs": [
    {
     "data": {
      "text/html": [
       "<div>\n",
       "<style scoped>\n",
       "    .dataframe tbody tr th:only-of-type {\n",
       "        vertical-align: middle;\n",
       "    }\n",
       "\n",
       "    .dataframe tbody tr th {\n",
       "        vertical-align: top;\n",
       "    }\n",
       "\n",
       "    .dataframe thead th {\n",
       "        text-align: right;\n",
       "    }\n",
       "</style>\n",
       "<table border=\"1\" class=\"dataframe\">\n",
       "  <thead>\n",
       "    <tr style=\"text-align: right;\">\n",
       "      <th></th>\n",
       "      <th>City</th>\n",
       "      <th>Cloudiness</th>\n",
       "      <th>Country</th>\n",
       "      <th>Date</th>\n",
       "      <th>Humidity</th>\n",
       "      <th>Lat</th>\n",
       "      <th>Lng</th>\n",
       "      <th>Max Temp</th>\n",
       "      <th>Wind</th>\n",
       "      <th>Hotel Name</th>\n",
       "    </tr>\n",
       "  </thead>\n",
       "  <tbody>\n",
       "    <tr>\n",
       "      <th>0</th>\n",
       "      <td>vallenar</td>\n",
       "      <td>0</td>\n",
       "      <td>CL</td>\n",
       "      <td>1634853168</td>\n",
       "      <td>30</td>\n",
       "      <td>-28.57</td>\n",
       "      <td>-70.76</td>\n",
       "      <td>71.80</td>\n",
       "      <td>7.49</td>\n",
       "      <td>Hotel Origenes</td>\n",
       "    </tr>\n",
       "    <tr>\n",
       "      <th>1</th>\n",
       "      <td>ovalle</td>\n",
       "      <td>0</td>\n",
       "      <td>CL</td>\n",
       "      <td>1634853181</td>\n",
       "      <td>38</td>\n",
       "      <td>-30.60</td>\n",
       "      <td>-71.20</td>\n",
       "      <td>70.56</td>\n",
       "      <td>6.60</td>\n",
       "      <td>Hotel Keo</td>\n",
       "    </tr>\n",
       "    <tr>\n",
       "      <th>2</th>\n",
       "      <td>sirsa</td>\n",
       "      <td>0</td>\n",
       "      <td>IN</td>\n",
       "      <td>1634853186</td>\n",
       "      <td>31</td>\n",
       "      <td>29.53</td>\n",
       "      <td>75.02</td>\n",
       "      <td>73.89</td>\n",
       "      <td>5.61</td>\n",
       "      <td>Hotel Gumber</td>\n",
       "    </tr>\n",
       "    <tr>\n",
       "      <th>3</th>\n",
       "      <td>mount isa</td>\n",
       "      <td>0</td>\n",
       "      <td>AU</td>\n",
       "      <td>1634853196</td>\n",
       "      <td>53</td>\n",
       "      <td>-20.73</td>\n",
       "      <td>139.50</td>\n",
       "      <td>78.57</td>\n",
       "      <td>0.00</td>\n",
       "      <td>Isa Hotel</td>\n",
       "    </tr>\n",
       "    <tr>\n",
       "      <th>4</th>\n",
       "      <td>duartina</td>\n",
       "      <td>0</td>\n",
       "      <td>BR</td>\n",
       "      <td>1634853204</td>\n",
       "      <td>50</td>\n",
       "      <td>-22.41</td>\n",
       "      <td>-49.40</td>\n",
       "      <td>79.95</td>\n",
       "      <td>7.92</td>\n",
       "      <td>HOTEL BOA VISTA</td>\n",
       "    </tr>\n",
       "    <tr>\n",
       "      <th>5</th>\n",
       "      <td>beira</td>\n",
       "      <td>0</td>\n",
       "      <td>MZ</td>\n",
       "      <td>1634853219</td>\n",
       "      <td>78</td>\n",
       "      <td>-19.84</td>\n",
       "      <td>34.84</td>\n",
       "      <td>71.69</td>\n",
       "      <td>8.01</td>\n",
       "      <td>Hotel Tivoli Beira</td>\n",
       "    </tr>\n",
       "  </tbody>\n",
       "</table>\n",
       "</div>"
      ],
      "text/plain": [
       "        City  Cloudiness Country        Date  Humidity    Lat     Lng  \\\n",
       "0   vallenar           0      CL  1634853168        30 -28.57  -70.76   \n",
       "1     ovalle           0      CL  1634853181        38 -30.60  -71.20   \n",
       "2      sirsa           0      IN  1634853186        31  29.53   75.02   \n",
       "3  mount isa           0      AU  1634853196        53 -20.73  139.50   \n",
       "4   duartina           0      BR  1634853204        50 -22.41  -49.40   \n",
       "5      beira           0      MZ  1634853219        78 -19.84   34.84   \n",
       "\n",
       "   Max Temp  Wind          Hotel Name  \n",
       "0     71.80  7.49      Hotel Origenes  \n",
       "1     70.56  6.60           Hotel Keo  \n",
       "2     73.89  5.61        Hotel Gumber  \n",
       "3     78.57  0.00           Isa Hotel  \n",
       "4     79.95  7.92     HOTEL BOA VISTA  \n",
       "5     71.69  8.01  Hotel Tivoli Beira  "
      ]
     },
     "execution_count": 8,
     "metadata": {},
     "output_type": "execute_result"
    }
   ],
   "source": [
    "hotel_df"
   ]
  },
  {
   "cell_type": "code",
   "execution_count": 9,
   "metadata": {},
   "outputs": [],
   "source": [
    "# NOTE: Do not change any of the code in this cell\n",
    "\n",
    "# Using the template add the hotel marks to the heatmap\n",
    "info_box_template = \"\"\"\n",
    "<dl>\n",
    "<dt>Name</dt><dd>{Hotel Name}</dd>\n",
    "<dt>City</dt><dd>{City}</dd>\n",
    "<dt>Country</dt><dd>{Country}</dd>\n",
    "</dl>\n",
    "\"\"\"\n",
    "# Store the DataFrame Row\n",
    "# NOTE: be sure to update with your DataFrame name\n",
    "hotel_info = [info_box_template.format(**row) for index, row in hotel_df.iterrows()]\n",
    "locations = hotel_df[[\"Lat\", \"Lng\"]]"
   ]
  },
  {
   "cell_type": "code",
   "execution_count": 10,
   "metadata": {},
   "outputs": [
    {
     "data": {
      "application/vnd.jupyter.widget-view+json": {
       "model_id": "53a4c06443f5485f89ebffe3a4dfb136",
       "version_major": 2,
       "version_minor": 0
      },
      "text/plain": [
       "Figure(layout=FigureLayout(height='420px'))"
      ]
     },
     "metadata": {},
     "output_type": "display_data"
    }
   ],
   "source": [
    "# Add marker layer ontop of heat map\n",
    "heat_layer = gmaps.heatmap_layer(locations)\n",
    "marker_layer= gmaps.marker_layer(locations,info_box_content=hotel_info)\n",
    "fig.add_layer(heat_layer)\n",
    "fig.add_layer(marker_layer)\n",
    "\n",
    "# Display figure\n",
    "fig"
   ]
  }
 ],
 "metadata": {
  "kernelspec": {
   "display_name": "Python 3",
   "language": "python",
   "name": "python3"
  },
  "language_info": {
   "codemirror_mode": {
    "name": "ipython",
    "version": 3
   },
   "file_extension": ".py",
   "mimetype": "text/x-python",
   "name": "python",
   "nbconvert_exporter": "python",
   "pygments_lexer": "ipython3",
   "version": "3.8.8"
  },
  "latex_envs": {
   "LaTeX_envs_menu_present": true,
   "autoclose": false,
   "autocomplete": true,
   "bibliofile": "biblio.bib",
   "cite_by": "apalike",
   "current_citInitial": 1,
   "eqLabelWithNumbers": true,
   "eqNumInitial": 1,
   "hotkeys": {
    "equation": "Ctrl-E",
    "itemize": "Ctrl-I"
   },
   "labels_anchors": false,
   "latex_user_defs": false,
   "report_style_numbering": false,
   "user_envs_cfg": false
  }
 },
 "nbformat": 4,
 "nbformat_minor": 4
}
